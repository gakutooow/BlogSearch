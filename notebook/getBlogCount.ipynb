{
 "cells": [
  {
   "cell_type": "code",
   "execution_count": 1,
   "metadata": {},
   "outputs": [],
   "source": [
    "import numpy as np\n",
    "import pandas as pd\n",
    "from pandas import DataFrame\n",
    "\n",
    "from pymongo import MongoClient\n",
    "\n",
    "import matplotlib.pyplot as plt\n",
    "%matplotlib inline"
   ]
  },
  {
   "cell_type": "code",
   "execution_count": null,
   "metadata": {},
   "outputs": [],
   "source": [
    "import blog\n",
    "\n",
    "# search_keyword_list = [\n",
    "# \"アラン・リックマン\",\n",
    "# \"ハリー・ポッター\",\n",
    "# \"ダイ・ハード\"\n",
    "# ]\n",
    "\n",
    "token = \"2d6e975584c9aa74aa1bdceab932545a\"\n",
    "\n",
    "dic_list = blog.getBody(\"アラン・リックマン\",token)\n",
    "\n",
    "from pymongo import MongoClient\n",
    "client = MongoClient('localhost', 27017)\n",
    "db = client.blogdb\n",
    "\n",
    "            \n",
    "collection = db[\"AlanRickman\"]\n",
    "for blog in dic_list:\n",
    "    collection.insert(blog)"
   ]
  },
  {
   "cell_type": "code",
   "execution_count": null,
   "metadata": {},
   "outputs": [],
   "source": []
  }
 ],
 "metadata": {
  "kernelspec": {
   "display_name": "Python 3",
   "language": "python",
   "name": "python3"
  },
  "language_info": {
   "codemirror_mode": {
    "name": "ipython",
    "version": 3
   },
   "file_extension": ".py",
   "mimetype": "text/x-python",
   "name": "python",
   "nbconvert_exporter": "python",
   "pygments_lexer": "ipython3",
   "version": "3.7.0"
  }
 },
 "nbformat": 4,
 "nbformat_minor": 2
}
